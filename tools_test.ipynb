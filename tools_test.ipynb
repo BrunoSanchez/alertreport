{
 "cells": [
  {
   "cell_type": "markdown",
   "metadata": {},
   "source": [
    "# Notebook para testear herramientas\n",
    "\n",
    "Combinar carta de observacion con fchart\n",
    "\n",
    "Astroplan para planear segun altura y masa de aire\n",
    "\n",
    "reportlab para generar el pdf de observacion"
   ]
  },
  {
   "cell_type": "code",
   "execution_count": null,
   "metadata": {
    "collapsed": true
   },
   "outputs": [],
   "source": [
    "import fchart\n",
    "import os\n",
    "\n",
    "import numpy as np\n",
    "\n",
    "from astropy.coordinates import SkyCoord\n",
    "from astropy import units as u\n",
    "from astropy.table import Table\n",
    "from astropy.table import Column\n",
    "from astropy.io import ascii\n",
    "from astroplan import FixedTarget\n",
    "\n",
    "import conf as cf"
   ]
  },
  {
   "cell_type": "code",
   "execution_count": null,
   "metadata": {
    "collapsed": true
   },
   "outputs": [],
   "source": [
    "plots = cf.plots\n",
    "if not os.path.isdir(plots):\n",
    "    os.mkdir(plots)"
   ]
  },
  {
   "cell_type": "code",
   "execution_count": null,
   "metadata": {
    "collapsed": false
   },
   "outputs": [],
   "source": [
    "observatory = cf.observer\n",
    "\n",
    "sunset_tonight = observatory.sun_set_time(cf.obs_time, which='next', horizon=-15*u.degree)\n",
    "sunrise_tonight = observatory.sun_rise_time(cf.obs_time, which='next', horizon=-15*u.degree)"
   ]
  },
  {
   "cell_type": "code",
   "execution_count": null,
   "metadata": {
    "collapsed": false
   },
   "outputs": [],
   "source": [
    "print sunrise_tonight.iso\n",
    "print sunset_tonight.iso\n",
    "\n",
    "observatory.sun_rise_time"
   ]
  },
  {
   "cell_type": "code",
   "execution_count": null,
   "metadata": {
    "collapsed": false
   },
   "outputs": [],
   "source": [
    "white_cat= cf.catalog\n",
    "\n",
    "white_table = ascii.read(white_cat, delimiter=' ', format='commented_header')\n",
    "\n",
    "dist_lim = 80.\n",
    "near = white_table['Dist'] < dist_lim \n",
    "visible = white_table['App_Mag']< 19     # Apparent Magnitude cut\n",
    "bright = white_table['Abs_Mag']< -17.5      # Absolute Magnitude cut\n",
    "lim_dec = white_table['Dec']< 30. \n",
    "\n",
    "sample = white_table[visible & bright & lim_dec & near]\n",
    "sample"
   ]
  },
  {
   "cell_type": "code",
   "execution_count": null,
   "metadata": {
    "collapsed": true
   },
   "outputs": [],
   "source": [
    "targets = []\n",
    "rises = np.empty(len(sample), dtype='str')\n",
    "sets = np.empty(len(sample), dtype='str')\n",
    "i = 0\n",
    "for row in sample:\n",
    "    coordinates = SkyCoord(row['RA']*u.degree, row['Dec']*u.degree, frame='icrs')\n",
    "    obj = FixedTarget(coord=coordinates, name=row['Name'])\n",
    "    targets.append(obj)\n",
    "    rise_time = observatory.target_rise_time(cf.obs_time, obj)\n",
    "    set_time = observatory.target_set_time(cf.obs_time, obj)\n",
    "    if rise_time.jd != -999.0: rises[i] = rise_time.iso\n",
    "    if set_time.jd != -999.0: sets[i] = set_time.iso\n",
    "    i += 1"
   ]
  },
  {
   "cell_type": "code",
   "execution_count": null,
   "metadata": {
    "collapsed": true
   },
   "outputs": [],
   "source": []
  },
  {
   "cell_type": "code",
   "execution_count": null,
   "metadata": {
    "collapsed": false
   },
   "outputs": [],
   "source": [
    "targcol = Column(targets, name='planTargets')\n",
    "risecol = Column(rises, name='RiseTime')\n",
    "setcol = Column(sets, name='SetTime')\n",
    "\n",
    "sample.add_columns(targcol)\n",
    "sample.add_columns(risecol)\n",
    "sample.add_columns(setcol)"
   ]
  },
  {
   "cell_type": "code",
   "execution_count": null,
   "metadata": {
    "collapsed": false
   },
   "outputs": [],
   "source": [
    "targets"
   ]
  },
  {
   "cell_type": "code",
   "execution_count": null,
   "metadata": {
    "collapsed": true
   },
   "outputs": [],
   "source": []
  }
 ],
 "metadata": {
  "kernelspec": {
   "display_name": "Python 2",
   "language": "python",
   "name": "python2"
  },
  "language_info": {
   "codemirror_mode": {
    "name": "ipython",
    "version": 2
   },
   "file_extension": ".py",
   "mimetype": "text/x-python",
   "name": "python",
   "nbconvert_exporter": "python",
   "pygments_lexer": "ipython2",
   "version": "2.7.10"
  }
 },
 "nbformat": 4,
 "nbformat_minor": 0
}
