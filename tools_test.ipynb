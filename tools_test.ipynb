{
 "cells": [
  {
   "cell_type": "markdown",
   "metadata": {},
   "source": [
    "# Notebook para testear herramientas\n",
    "\n",
    "Combinar carta de observacion con fchart\n",
    "\n",
    "Astroplan para planear segun altura y masa de aire\n",
    "\n",
    "reportlab para generar el pdf de observacion"
   ]
  },
  {
   "cell_type": "code",
   "execution_count": null,
   "metadata": {
    "collapsed": false
   },
   "outputs": [],
   "source": [
    "import fchart\n",
    "import os\n",
    "\n",
    "import math as m\n",
    "import numpy as np\n",
    "import matplotlib.pyplot as plt\n",
    "import seaborn\n",
    "\n",
    "from astropy.coordinates import SkyCoord\n",
    "from astropy.coordinates import get_sun\n",
    "from astropy.time import Time\n",
    "from astropy import units as u\n",
    "from astropy.table import Table\n",
    "from astropy.table import Column\n",
    "from astropy.io import ascii\n",
    "from astroplan import FixedTarget\n",
    "\n",
    "import conf as cf\n",
    "\n",
    "%matplotlib inline"
   ]
  },
  {
   "cell_type": "code",
   "execution_count": null,
   "metadata": {
    "collapsed": true
   },
   "outputs": [],
   "source": [
    "from astropy.utils.console import ProgressBar"
   ]
  },
  {
   "cell_type": "code",
   "execution_count": null,
   "metadata": {
    "collapsed": true
   },
   "outputs": [],
   "source": [
    "plots = cf.plots\n",
    "if not os.path.isdir(plots):\n",
    "    os.mkdir(plots)"
   ]
  },
  {
   "cell_type": "code",
   "execution_count": null,
   "metadata": {
    "collapsed": false
   },
   "outputs": [],
   "source": [
    "observatory = cf.observer\n",
    "\n",
    "sunset_tonight = observatory.sun_set_time(cf.obs_time, which='next', horizon=-15*u.degree)\n",
    "sunrise_tonight = observatory.sun_rise_time(cf.obs_time, which='next', horizon=-15*u.degree)"
   ]
  },
  {
   "cell_type": "code",
   "execution_count": null,
   "metadata": {
    "collapsed": false,
    "scrolled": true
   },
   "outputs": [],
   "source": [
    "print sunrise_tonight.sidereal_time('mean', longitude=cf.longitude).hms\n",
    "print sunset_tonight.sidereal_time('mean', longitude=cf.longitude).hms"
   ]
  },
  {
   "cell_type": "code",
   "execution_count": null,
   "metadata": {
    "collapsed": true
   },
   "outputs": [],
   "source": [
    "def is_up_tonight(alpha, delta, sunrise, sunset, observatory):\n",
    "    lat = observatory.location.latitude.degree\n",
    "    circum = 90 - abs(lat)\n",
    "    if abs(delta) > circum and np.sign(delta)==np.sign(lat):\n",
    "        return True\n",
    "    lon = observatory.location.longitude.degree\n",
    "    lst_rise = sunrise.sidereal_time('mean', longitude=lon).degree\n",
    "    lst_set = sunset.sidereal_time('mean', longitude=lon).degree\n",
    "    \n",
    "    if alpha%360 > (lst_set - 70)%360 and alpha%360 < (lst_rise + 70)%360:\n",
    "        return True\n",
    "    return False"
   ]
  },
  {
   "cell_type": "code",
   "execution_count": null,
   "metadata": {
    "collapsed": true
   },
   "outputs": [],
   "source": [
    "def alpha_cuts(observation_time, horizon=-15*u.degree, min_height=45*u.degree):\n",
    "    sun = get_sun(observation_time)\n",
    "    horiz = horizon.to(u.degree)\n",
    "    h = min_height.to(u.degree)\n",
    "    \n",
    "    lowest_alpha = (sun.ra - horiz + h)\n",
    "    highest_alpha = (sun.ra + horiz - h)#.hourangle%24\n",
    "\n",
    "    return (lowest_alpha.to(u.hourangle).value, highest_alpha.to(u.hourangle).value)"
   ]
  },
  {
   "cell_type": "code",
   "execution_count": null,
   "metadata": {
    "collapsed": false,
    "scrolled": true
   },
   "outputs": [],
   "source": [
    "low, high = alpha_cuts(cf.obs_time, horizon=-15*u.degree, min_height=40*u.degree)"
   ]
  },
  {
   "cell_type": "code",
   "execution_count": null,
   "metadata": {
    "collapsed": false
   },
   "outputs": [],
   "source": [
    "print low, high"
   ]
  },
  {
   "cell_type": "code",
   "execution_count": null,
   "metadata": {
    "collapsed": false
   },
   "outputs": [],
   "source": [
    "observatory.local_sidereal_time(Time.now(), 'mean')"
   ]
  },
  {
   "cell_type": "code",
   "execution_count": null,
   "metadata": {
    "collapsed": true
   },
   "outputs": [],
   "source": [
    "white_cat= cf.catalog\n",
    "\n",
    "white_table = ascii.read(white_cat, delimiter=' ', format='commented_header')\n",
    "\n",
    "circum_angle = abs(90.*u.degree - abs(observatory.location.latitude))\n",
    "\n",
    "circum = abs(white_table['Dec']*u.degree - 90.*u.degree) > circum_angle + 90*u.degree\n",
    "\n",
    "alpha_obs_min, alpha_obs_max = alpha_cuts(cf.obs_time)\n",
    "\n",
    "dist_lim = 80."
   ]
  },
  {
   "cell_type": "code",
   "execution_count": null,
   "metadata": {
    "collapsed": false
   },
   "outputs": [],
   "source": [
    "print alpha_obs_max*u.hourangle, alpha_obs_min*u.hourangle"
   ]
  },
  {
   "cell_type": "code",
   "execution_count": null,
   "metadata": {
    "collapsed": false,
    "scrolled": false
   },
   "outputs": [],
   "source": [
    "near = white_table['Dist'] < dist_lim \n",
    "visible = white_table['App_Mag']< 19     # Apparent Magnitude cut\n",
    "bright = white_table['Abs_Mag']< -17.5      # Absolute Magnitude cut\n",
    "lim_dec = white_table['Dec']< 30. \n",
    "\n",
    "if alpha_obs_max > alpha_obs_min:\n",
    "    alfa_min = white_table['RA'] >  alpha_obs_min      # Alpha cut\n",
    "    alfa_max = white_table['RA'] <= alpha_obs_max\n",
    "\n",
    "    sample = white_table[near & visible & bright & lim_dec & (alfa_min & alfa_max) | circum]\n",
    "else:\n",
    "    print \"REVERSAL\"\n",
    "    alfa_min1 = white_table['RA'] > alpha_obs_min \n",
    "    alfa_min2 = white_table['RA'] < 24\n",
    "    alfa_max1 = white_table['RA'] < alpha_obs_max \n",
    "    alfa_max2 = white_table['RA'] >= 0\n",
    "    \n",
    "    alfa_min = alfa_min1 & alfa_min2\n",
    "    alfa_max = alfa_max1 & alfa_max2\n",
    "    \n",
    "    sample = white_table[near & visible & bright & lim_dec & (alfa_min | alfa_max) | circum]\n",
    "    \n",
    "sample"
   ]
  },
  {
   "cell_type": "code",
   "execution_count": null,
   "metadata": {
    "collapsed": false,
    "scrolled": true
   },
   "outputs": [],
   "source": [
    "plt.hist(sample['App_Mag'])\n",
    "plt.xlabel('App B Mag')\n",
    "plt.ylabel('Number')\n",
    "plt.title('App B Mag sample histogram')\n",
    "\n",
    "plt.savefig(os.path.join(plots, 'appmag_sample_histogram.png'), dpi=300)\n",
    "\n",
    "plt.show()"
   ]
  },
  {
   "cell_type": "code",
   "execution_count": null,
   "metadata": {
    "collapsed": false
   },
   "outputs": [],
   "source": [
    "plt.hist(sample['Abs_Mag'])"
   ]
  },
  {
   "cell_type": "code",
   "execution_count": null,
   "metadata": {
    "collapsed": false,
    "scrolled": true
   },
   "outputs": [],
   "source": [
    "plt.hist(sample['RA'], bins=24)\n",
    "plt.xlim((0,24))\n",
    "plt.xlabel('RA [h]')\n",
    "plt.ylabel('Number')\n",
    "plt.title('Right Ascension sample histogram')\n",
    "\n",
    "plt.savefig(os.path.join(plots, 'RA_sample_histogram.png'), dpi=300)\n",
    "\n",
    "plt.show()"
   ]
  },
  {
   "cell_type": "code",
   "execution_count": null,
   "metadata": {
    "collapsed": false,
    "scrolled": true
   },
   "outputs": [],
   "source": [
    "plt.hist(sample['Dist'], range=[1,dist_lim])\n",
    "plt.title('Distance histogram of the objects\\n observable from Macon')\n",
    "\n",
    "plt.xlabel('Distance [Mpc]')\n",
    "plt.ylabel('Number')\n",
    "\n",
    "plt.savefig(os.path.join(plots, 'distance_histogram_sample.png'), dpi=300)\n",
    "\n",
    "plt.show()"
   ]
  },
  {
   "cell_type": "code",
   "execution_count": null,
   "metadata": {
    "collapsed": false
   },
   "outputs": [],
   "source": [
    "plt.figure(figsize=(10,10))\n",
    "plt.subplot(211, projection=\"aitoff\")\n",
    "deg2rad=np.pi/180.\n",
    "\n",
    "coord = SkyCoord(ra=sample['RA']*u.hourangle, dec=sample['Dec']*u.degree, frame='icrs')\n",
    "\n",
    "mean_zenith_ra = np.mean(coord.ra.wrap_at(360*u.degree).radian)\n",
    "if mean_zenith_ra > m.pi:\n",
    "    mean_zenith_ra -= 2*m.pi\n",
    "zenith_dec = observatory.location.latitude.radian\n",
    "\n",
    "xg = coord.ra.wrap_at(180 * u.deg).radian\n",
    "yg = coord.dec.radian\n",
    "\n",
    "# we should avoid the galactic plane\n",
    "plt.plot(xg,yg, \"r.\")\n",
    "plt.plot(mean_zenith_ra, zenith_dec, 'bo')\n",
    "plt.grid(True)\n",
    "plt.title(\"Aitoff de objetos observables EABA\")\n",
    "plt.xlabel(\"Right Ascention [deg]\")\n",
    "plt.ylabel(\"Declination [deg]\")\n",
    "plt.savefig(os.path.join(plots, 'radec_aitoff_sample.png'), dpi=300)\n",
    "plt.show()"
   ]
  },
  {
   "cell_type": "code",
   "execution_count": null,
   "metadata": {
    "collapsed": false
   },
   "outputs": [],
   "source": [
    "targets = []\n",
    "rises = np.empty(len(sample), dtype='str')\n",
    "sets = np.empty(len(sample), dtype='str')\n",
    "i = 0\n",
    "with ProgressBar(len(sample), ipython_widget=True) as bar:\n",
    "    for row in sample:\n",
    "        coordinates = SkyCoord(row['RA']*u.degree, row['Dec']*u.degree, frame='icrs')\n",
    "        obj = FixedTarget(coord=coordinates, name=row['Name'])\n",
    "        #targets.append(obj)\n",
    "        rise_time = observatory.target_rise_time(cf.obs_time, obj)\n",
    "        set_time = observatory.target_set_time(cf.obs_time, obj)\n",
    "        if rise_time.jd != -999.0: rises[i] = rise_time.iso\n",
    "        if set_time.jd != -999.0: sets[i] = set_time.iso\n",
    "        i += 1\n",
    "        bar.update()"
   ]
  },
  {
   "cell_type": "code",
   "execution_count": null,
   "metadata": {
    "collapsed": false
   },
   "outputs": [],
   "source": [
    "targcol = Column(targets, name='planTargets')\n",
    "risecol = Column(rises, name='RiseTime')\n",
    "setcol = Column(sets, name='SetTime')\n",
    "\n",
    "sample.add_columns(targcol)\n",
    "sample.add_columns(risecol)\n",
    "sample.add_columns(setcol)"
   ]
  }
 ],
 "metadata": {
  "kernelspec": {
   "display_name": "Python 2",
   "language": "python",
   "name": "python2"
  },
  "language_info": {
   "codemirror_mode": {
    "name": "ipython",
    "version": 2
   },
   "file_extension": ".py",
   "mimetype": "text/x-python",
   "name": "python",
   "nbconvert_exporter": "python",
   "pygments_lexer": "ipython2",
   "version": "2.7.10"
  },
  "widgets": {
   "state": {
    "281e11678a3c460981ad0a7a9c290d44": {
     "views": []
    },
    "72e62f25c1ef4d6486f3d8699e886051": {
     "views": []
    },
    "76de2fead94d4f838528ced16656ee13": {
     "views": []
    },
    "8701f2be182440bfb1422618903f57b8": {
     "views": []
    },
    "8be2a053c10445efa00594ef16f6ce7c": {
     "views": []
    },
    "fa447ca94f304b26a3f5f26b60ad5010": {
     "views": [
      {
       "cell_index": 19
      }
     ]
    }
   },
   "version": "1.1.2"
  }
 },
 "nbformat": 4,
 "nbformat_minor": 0
}
