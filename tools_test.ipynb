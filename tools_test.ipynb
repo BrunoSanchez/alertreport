{
 "cells": [
  {
   "cell_type": "markdown",
   "metadata": {},
   "source": [
    "# Notebook para testear herramientas\n",
    "\n",
    "Combinar carta de observacion con fchart\n",
    "\n",
    "Astroplan para planear segun altura y masa de aire\n",
    "\n",
    "reportlab para generar el pdf de observacion"
   ]
  },
  {
   "cell_type": "code",
   "execution_count": null,
   "metadata": {
    "collapsed": false
   },
   "outputs": [],
   "source": [
    "import fchart\n",
    "import os\n",
    "\n",
    "import math as m\n",
    "import numpy as np\n",
    "import matplotlib.pyplot as plt\n",
    "import seaborn\n",
    "\n",
    "from astropy.coordinates import SkyCoord\n",
    "from astropy.coordinates import get_sun\n",
    "from astropy.time import Time\n",
    "from astropy import units as u\n",
    "from astropy.table import Table\n",
    "from astropy.table import Column\n",
    "from astropy.io import ascii\n",
    "from astroplan import FixedTarget\n",
    "\n",
    "import conf as cf\n",
    "\n",
    "%matplotlib inline"
   ]
  },
  {
   "cell_type": "code",
   "execution_count": null,
   "metadata": {
    "collapsed": true
   },
   "outputs": [],
   "source": [
    "from astropy.utils.console import ProgressBar"
   ]
  },
  {
   "cell_type": "code",
   "execution_count": null,
   "metadata": {
    "collapsed": false
   },
   "outputs": [],
   "source": [
    "plots = cf.plots\n",
    "if not os.path.isdir(plots):\n",
    "    os.mkdir(plots)"
   ]
  },
  {
   "cell_type": "code",
   "execution_count": null,
   "metadata": {
    "collapsed": false
   },
   "outputs": [],
   "source": [
    "observatory = cf.observer\n",
    "\n",
    "sunset_tonight = observatory.sun_set_time(cf.obs_time, which='next', horizon=-15*u.degree)\n",
    "sunrise_tonight = observatory.sun_rise_time(cf.obs_time, which='next', horizon=-15*u.degree)\n",
    "\n",
    "local_sunset = (sunset_tonight-3*u.hour).utc.iso\n",
    "local_sunrise = (sunrise_tonight-3*u.hour).utc.iso\n",
    "\n",
    "\n",
    "print 'tiempo local de crepusculo', local_sunset \n",
    "print 'tiempo local del alba', local_sunrise"
   ]
  },
  {
   "cell_type": "code",
   "execution_count": null,
   "metadata": {
    "collapsed": false,
    "scrolled": true
   },
   "outputs": [],
   "source": [
    "print \"Tiempo sidereo en puesta del sol =\",sunset_tonight.sidereal_time('mean', longitude=cf.longitude)\n",
    "print \"Tiempo sidereo en salida del sol =\",sunrise_tonight.sidereal_time('mean', longitude=cf.longitude)"
   ]
  },
  {
   "cell_type": "code",
   "execution_count": null,
   "metadata": {
    "collapsed": true
   },
   "outputs": [],
   "source": [
    "def is_up_tonight(alpha, delta, sunrise, sunset, observatory):\n",
    "    lat = observatory.location.latitude.degree\n",
    "    circum = 90 - abs(lat)\n",
    "    if abs(delta) > circum and np.sign(delta)==np.sign(lat):\n",
    "        return True\n",
    "    lon = observatory.location.longitude.degree\n",
    "    lst_rise = sunrise.sidereal_time('mean', longitude=lon).degree\n",
    "    lst_set = sunset.sidereal_time('mean', longitude=lon).degree\n",
    "    \n",
    "    if alpha%360 > (lst_set - 70)%360 and alpha%360 < (lst_rise + 70)%360:\n",
    "        return True\n",
    "    return False"
   ]
  },
  {
   "cell_type": "code",
   "execution_count": null,
   "metadata": {
    "collapsed": true
   },
   "outputs": [],
   "source": [
    "def alpha_cuts(observation_time, horizon=-15*u.degree, min_height=45*u.degree):\n",
    "    sun = get_sun(observation_time)\n",
    "    horiz = horizon.to(u.degree)\n",
    "    h = min_height.to(u.degree)\n",
    "    \n",
    "    lowest_alpha = (sun.ra - horiz + h)\n",
    "    highest_alpha = (sun.ra + horiz - h)#.hourangle%24\n",
    "\n",
    "    return (lowest_alpha.to(u.hourangle).value, highest_alpha.to(u.hourangle).value)"
   ]
  },
  {
   "cell_type": "code",
   "execution_count": null,
   "metadata": {
    "collapsed": false
   },
   "outputs": [],
   "source": [
    "observatory.local_sidereal_time(Time.now(), 'mean')"
   ]
  },
  {
   "cell_type": "code",
   "execution_count": null,
   "metadata": {
    "collapsed": true
   },
   "outputs": [],
   "source": [
    "white_cat= cf.catalog\n",
    "\n",
    "white_table = ascii.read(white_cat, delimiter=' ', format='commented_header')\n",
    "\n",
    "circum_angle = abs(90.*u.degree - abs(observatory.location.latitude))\n",
    "\n",
    "circum = abs(white_table['Dec']*u.degree - 90.*u.degree) > circum_angle + 90*u.degree\n",
    "\n",
    "alpha_obs_min, alpha_obs_max = alpha_cuts(cf.obs_time)\n",
    "\n",
    "dist_lim = 80."
   ]
  },
  {
   "cell_type": "code",
   "execution_count": null,
   "metadata": {
    "collapsed": false,
    "scrolled": false
   },
   "outputs": [],
   "source": [
    "near = white_table['Dist'] < dist_lim \n",
    "visible = white_table['App_Mag']< 19     # Apparent Magnitude cut\n",
    "bright = white_table['Abs_Mag']< -17.5      # Absolute Magnitude cut\n",
    "lim_dec = white_table['Dec']< 30. \n",
    "\n",
    "alfa_min = white_table['RA'] >  float(alpha_obs_min)       # Alpha cut \n",
    "alfa_max = white_table['RA'] <= float(alpha_obs_max)\n",
    "\n",
    "if alpha_obs_max > alpha_obs_min:\n",
    "    sample = white_table[near & visible & bright & lim_dec & ((alfa_min & alfa_max) | circum)]\n",
    "else:\n",
    "    sample = white_table[near & visible & bright & lim_dec & ((alfa_min | alfa_max) | circum)]\n"
   ]
  },
  {
   "cell_type": "code",
   "execution_count": null,
   "metadata": {
    "collapsed": false,
    "scrolled": false
   },
   "outputs": [],
   "source": [
    "plt.hist(sample['App_Mag'])\n",
    "plt.xlabel('App B Mag')\n",
    "plt.ylabel('Abs B Mag')\n",
    "plt.title('App vs Abs B Mag sample histogram')\n",
    "\n",
    "plt.savefig(os.path.join(plots, 'appmag_sample_histogram.png'), dpi=300)\n",
    "\n",
    "plt.show()"
   ]
  },
  {
   "cell_type": "code",
   "execution_count": null,
   "metadata": {
    "collapsed": false,
    "scrolled": true
   },
   "outputs": [],
   "source": [
    "plt.hist(sample['RA'], bins=24)\n",
    "plt.xlim((0,24))\n",
    "plt.xlabel('RA [h]')\n",
    "plt.ylabel('Number')\n",
    "plt.title('Right Ascension sample histogram')\n",
    "\n",
    "plt.savefig(os.path.join(plots, 'RA_sample_histogram.png'), dpi=300)\n",
    "\n",
    "plt.show()"
   ]
  },
  {
   "cell_type": "code",
   "execution_count": null,
   "metadata": {
    "collapsed": false,
    "scrolled": true
   },
   "outputs": [],
   "source": [
    "plt.hist(sample['Dist'], range=[1,dist_lim])\n",
    "plt.title('Distance histogram of the objects\\n observable from Macon')\n",
    "\n",
    "plt.xlabel('Distance [Mpc]')\n",
    "plt.ylabel('Number')\n",
    "\n",
    "plt.savefig(os.path.join(plots, 'distance_histogram_sample.png'), dpi=300)\n",
    "\n",
    "plt.show()"
   ]
  },
  {
   "cell_type": "code",
   "execution_count": null,
   "metadata": {
    "collapsed": false
   },
   "outputs": [],
   "source": [
    "plt.figure(figsize=(10,10))\n",
    "plt.subplot(211, projection=\"aitoff\")\n",
    "deg2rad=np.pi/180.\n",
    "\n",
    "coord = SkyCoord(ra=sample['RA']*u.hourangle, dec=sample['Dec']*u.degree, frame='icrs')\n",
    "\n",
    "mean_zenith_ra = np.mean(coord.ra.wrap_at(360*u.degree).radian)\n",
    "if mean_zenith_ra > m.pi:\n",
    "    mean_zenith_ra -= 2*m.pi\n",
    "zenith_dec = observatory.location.latitude.radian\n",
    "\n",
    "xg = coord.ra.wrap_at(180 * u.deg).radian\n",
    "yg = coord.dec.radian\n",
    "\n",
    "# we should avoid the galactic plane\n",
    "plt.plot(xg,yg, \"r.\")\n",
    "plt.plot(mean_zenith_ra, zenith_dec, 'bo')\n",
    "print mean_zenith_ra, zenith_dec\n",
    "plt.grid(True)\n",
    "plt.title(\"Aitoff de objetos observables EABA\")\n",
    "plt.xlabel(\"Right Ascention [deg]\")\n",
    "plt.ylabel(\"Declination [deg]\")\n",
    "plt.savefig(os.path.join(plots, 'radec_aitoff_sample.png'), dpi=300)\n",
    "plt.show()"
   ]
  },
  {
   "cell_type": "code",
   "execution_count": null,
   "metadata": {
    "collapsed": true
   },
   "outputs": [],
   "source": [
    "import healpy as hp"
   ]
  },
  {
   "cell_type": "code",
   "execution_count": null,
   "metadata": {
    "collapsed": false
   },
   "outputs": [],
   "source": [
    "aligo_alert_data_file=os.path.join('./.',\"skymap.fits\")\n",
    "NSIDE=512 #2048\n",
    "aligo_banana = hp.read_map(aligo_alert_data_file)"
   ]
  },
  {
   "cell_type": "code",
   "execution_count": null,
   "metadata": {
    "collapsed": false
   },
   "outputs": [],
   "source": [
    "from astropy.io import fits\n",
    "hdr1 = fits.getheader(aligo_alert_data_file)\n",
    "hdr1"
   ]
  },
  {
   "cell_type": "code",
   "execution_count": null,
   "metadata": {
    "collapsed": false
   },
   "outputs": [],
   "source": [
    "# plot the banana map\n",
    "fig = plt.figure(2, figsize=(10, 10))\n",
    "hp.mollview(aligo_banana, title='aLIGO alert Likelihood level', flip=\"astro\",\n",
    "            unit='$\\Delta$', fig=2)\n",
    "fig.axes[1].texts[0].set_fontsize(8)\n",
    "\n",
    "mean_zenith_ra = np.mean(coord.ra.wrap_at(360*u.degree).degree)\n",
    "\n",
    "zenith_dec = observatory.location.latitude.degree\n",
    "\n",
    "hp.projscatter(mean_zenith_ra, zenith_dec, lonlat=True, color=\"red\")\n",
    "hp.projtext(mean_zenith_ra, zenith_dec,\n",
    "            'Macon Zenith\\n (mean position\\n over the night)', lonlat=False, color=\"red\")\n",
    "for ra in range(0,360,60):\n",
    "    for dec in range(-60,90,30):\n",
    "        if not (ra == 300 and dec == -30):\n",
    "                hp.projtext(ra,dec,'({}, {})'.format(ra,dec), lonlat=True, color='red')\n",
    "\n",
    "hp.graticule()\n",
    "\n",
    "plt.savefig(os.path.join(plots, 'allsky_likelihoodmap.png'), dpi=300)\n",
    "plt.show()"
   ]
  },
  {
   "cell_type": "code",
   "execution_count": null,
   "metadata": {
    "collapsed": false
   },
   "outputs": [],
   "source": [
    "# plot the banana map\n",
    "fig = plt.figure(2, figsize=(10, 10))\n",
    "rot=[mean_zenith_ra, zenith_dec]\n",
    "#rot2 = [mean_zenith_ra*180./m.pi +180, zenith_dec*180./m.pi]\n",
    "print rot\n",
    "hp.gnomview(aligo_banana, rot=rot, \n",
    "            title='aLIGO alert likelihood level zoom on\\n Macon zenith', flip=\"astro\",\n",
    "            unit='$\\Delta$', fig=2, xsize=800, reso=5)\n",
    "fig.axes[1].texts[0].set_fontsize(8)\n",
    "\n",
    "hp.projscatter(rot, lonlat=False, color=\"red\")\n",
    "hp.projtext(rot[0], rot[1],\n",
    "            'Macon Zenith\\n (mean position\\n over the night)', lonlat=True, color=\"red\")\n",
    "\n",
    "for ra in range(int(mean_zenith_ra)-30, int(mean_zenith_ra)+30, 10):\n",
    "    for dec in range(int(zenith_dec)-30, int(zenith_dec)+30, 10):\n",
    "        hp.projscatter(ra, dec, lonlat=True, color=\"red\")\n",
    "        hp.projtext(ra, dec, '({}, {})'.format(ra,dec), lonlat=True, color='red')\n",
    "\n",
    "hp.graticule()\n",
    "\n",
    "plt.savefig(os.path.join(plots, 'gnomom_view_Macon_likelihoodmap.png'), dpi=300)\n",
    "\n",
    "plt.show()"
   ]
  },
  {
   "cell_type": "code",
   "execution_count": null,
   "metadata": {
    "collapsed": false
   },
   "outputs": [],
   "source": [
    "likehood_cut=0.000001 #ut level for mask buildup\n",
    "\n",
    "aligo_alert_map_high_like = np.logical_not(aligo_banana < likehood_cut)\n",
    "map_lik_masked = hp.ma(aligo_banana)\n",
    "map_lik_masked.mask = np.logical_not(aligo_alert_map_high_like)\n",
    "\n",
    "hp.mollview(map_lik_masked.filled(), \n",
    "            title='aLIGO aitoff map projection masked\\n Likelihood > {}'.format(likehood_cut),\n",
    "            unit='$\\Delta$', fig=2)\n",
    "hp.graticule()\n",
    "hp.projscatter(mean_zenith_ra, zenith_dec\n",
    "               , lonlat=True, color=\"red\")\n",
    "hp.projtext(mean_zenith_ra, zenith_dec,\n",
    "            'Macon Zenith\\n (mean position\\n over the night)', lonlat=True, color=\"red\")\n",
    "\n",
    "for ra in range(0,360,60):\n",
    "    for dec in range(-60,80,30):\n",
    "        if not (ra == 300 and dec == -30):\n",
    "            hp.projtext(ra,dec,'({}, {})'.format(ra,dec), lonlat=True, color='red')\n",
    "\n",
    "plt.savefig(os.path.join(plots, 'allsky_likelihoodmap_masked.png'), dpi=300)\n",
    "plt.show()"
   ]
  },
  {
   "cell_type": "code",
   "execution_count": null,
   "metadata": {
    "collapsed": false
   },
   "outputs": [],
   "source": [
    "deg2rad = m.pi/180.\n",
    "\n",
    "phis = list(sample['RA']*15.*deg2rad)\n",
    "thetas = list(m.pi/2. - sample['Dec']*deg2rad)\n",
    "\n",
    "def interp_filter(theta, phi):\n",
    "    return hp.pixelfunc.get_interp_val(aligo_alert_map_high_like, \n",
    "                                       theta, phi, nest=False)\n",
    "\n",
    "def interp(theta, phi):\n",
    "    return hp.pixelfunc.get_interp_val(aligo_banana, \n",
    "                                       theta, phi, nest=False)\n",
    "\n",
    "interps_filter = np.asarray(map(interp_filter, thetas, phis))\n",
    "\n",
    "clipped = np.where(interps_filter > 0.2)\n",
    "\n",
    "interps = np.asarray(map(interp, thetas, phis))\n",
    "\n",
    "targets = sample[clipped[0]]\n",
    "\n",
    "target_liks = interps[clipped[0]]\n",
    "\n",
    "plt.hist(target_liks, log=True)\n",
    "plt.show()\n"
   ]
  },
  {
   "cell_type": "code",
   "execution_count": null,
   "metadata": {
    "collapsed": true
   },
   "outputs": [],
   "source": [
    "targets['Likelihoods'] = target_liks"
   ]
  },
  {
   "cell_type": "code",
   "execution_count": null,
   "metadata": {
    "collapsed": false
   },
   "outputs": [],
   "source": [
    "print len(targets)\n",
    "\n",
    "plt.figure(figsize=(10,7))\n",
    "plt.rcParams.update({\"font.size\":12})\n",
    "plt.plot(targets['RA']*15.,targets['Dec'], \"ro\")\n",
    "plt.plot(mean_zenith_ra, zenith_dec, 'bo')\n",
    "plt.xlim(mean_zenith_ra-60, mean_zenith_ra+60)\n",
    "plt.title(\"Selected targets near Macon zenith\\n with likelihood > {}\".format(likehood_cut))\n",
    "plt.xlabel(\"RA[deg]\")\n",
    "plt.ylabel(\"Dec[deg]\")\n",
    "#plt.grid()\n",
    "plt.savefig(os.path.join(plots, \"selected_targets_Ra_dec.png\"), dpi=300)\n",
    "plt.show()"
   ]
  },
  {
   "cell_type": "code",
   "execution_count": null,
   "metadata": {
    "collapsed": false
   },
   "outputs": [],
   "source": [
    "len(targets)"
   ]
  },
  {
   "cell_type": "code",
   "execution_count": null,
   "metadata": {
    "collapsed": false
   },
   "outputs": [],
   "source": [
    "from astropy.coordinates import SkyCoord\n",
    "import astropy.units as u\n",
    "from astropy.coordinates import FK5\n",
    "\n",
    "RAJ2016 = []\n",
    "DecJ2016 = []\n",
    "RA = []\n",
    "Dec = []\n",
    "with ProgressBar(len(targets), ipython_widget=True) as bar:\n",
    "    for row in targets:\n",
    "        coord=SkyCoord(ra=row['RA']*u.hourangle, dec=row['Dec']*u.degree, frame='icrs')\n",
    "        precessed=coord.transform_to(FK5(equinox='J2016.3'))\n",
    "\n",
    "        RAJ2016.append(precessed.to_string('hmsdms').split()[0])\n",
    "        DecJ2016.append(precessed.to_string('hmsdms').split()[1])\n",
    "\n",
    "        strcoord = coord.to_string('hmsdms')\n",
    "        RA.append(strcoord.split()[0])\n",
    "        Dec.append(strcoord.split()[1])\n",
    "        #print i, coord.to_string('hmsdms'), targetLik[ind], targetMag[ind], RAJ2015[i], DecJ2015[i], name2[ind]\n",
    "        bar.update()"
   ]
  },
  {
   "cell_type": "code",
   "execution_count": null,
   "metadata": {
    "collapsed": false
   },
   "outputs": [],
   "source": [
    "targets['RAJ2016'] = RAJ2016\n",
    "targets['DecJ2016'] = DecJ2016\n",
    "targets['RAJ2000'] = RA\n",
    "targets['DecJ2000'] = Dec"
   ]
  },
  {
   "cell_type": "code",
   "execution_count": null,
   "metadata": {
    "collapsed": true
   },
   "outputs": [],
   "source": [
    "targets.rename_column('App_Mag', 'AppMag')\n",
    "targets.rename_column('Abs_Mag', 'AbsMag')\n",
    "targets.rename_column('Maj_Diam_a', 'MajDiamA')\n",
    "targets.rename_column('Min_Diam_b', 'MinDiamB')\n",
    "targets.rename_column('err_Maj_Diam','ErrMajDiam')\n",
    "targets.rename_column('err_Min_Diam','ErrMinDiam')\n",
    "targets.rename_column('err_Dist', 'ErrDist')\n",
    "targets.rename_column('err_App_Mag', 'ErrAppMag')\n",
    "targets.rename_column('err_Abs_Mag', 'ErrAbsMag')\n",
    "targets.rename_column('err_b/a', 'Errb/a')"
   ]
  },
  {
   "cell_type": "code",
   "execution_count": null,
   "metadata": {
    "collapsed": true
   },
   "outputs": [],
   "source": [
    "#targets.sort(['RAJ2000','Likelihoods'])\n",
    "targets.sort(['Likelihoods','RAJ2000'])\n",
    "top_targets = targets[0:4]"
   ]
  },
  {
   "cell_type": "code",
   "execution_count": null,
   "metadata": {
    "collapsed": false
   },
   "outputs": [],
   "source": [
    "targets_plan = []\n",
    "rises = [] #np.empty(len(top_targets), dtype='float')\n",
    "sets = [] #np.empty(len(top_targets), dtype='float')\n",
    "i = 0\n",
    "with ProgressBar(len(top_targets), ipython_widget=True) as bar:\n",
    "    for row in top_targets:\n",
    "        coordinates = SkyCoord(row['RA']*u.degree, row['Dec']*u.degree, frame='icrs')\n",
    "        obj = FixedTarget(coord=coordinates, name=row['Name'])\n",
    "        targets_plan.append(obj)\n",
    "        rise_time = observatory.target_rise_time(cf.obs_time, obj)\n",
    "        set_time = observatory.target_set_time(cf.obs_time, obj)\n",
    "        if rise_time.jd != -999.0: \n",
    "            rises.append(rise_time.jd)\n",
    "        if set_time.jd != -999.0: \n",
    "            sets.append(set_time.jd)\n",
    "        i += 1\n",
    "        bar.update()"
   ]
  },
  {
   "cell_type": "code",
   "execution_count": null,
   "metadata": {
    "collapsed": false
   },
   "outputs": [],
   "source": [
    "targcol = Column(targets_plan, name='planTargets')\n",
    "risecol = Column(rises, name='RiseTime')\n",
    "setcol = Column(sets, name='SetTime')\n",
    "\n",
    "top_targets.add_column(targcol)\n",
    "top_targets.add_column(risecol)\n",
    "top_targets.add_column(setcol)"
   ]
  },
  {
   "cell_type": "code",
   "execution_count": null,
   "metadata": {
    "collapsed": false
   },
   "outputs": [],
   "source": [
    "plt.figure(figsize=(10,7))\n",
    "plt.rcParams.update({\"font.size\":14})\n",
    "plt.plot(top_targets['RA']*15.,top_targets['Dec'], \"ro\")\n",
    "plt.plot(mean_zenith_ra, zenith_dec, 'bo')\n",
    "#plt.xlim(mean_zenith_ra-60, mean_zenith_ra+60)\n",
    "plt.title(\"Selected targets near Macon zenith\\n with likelihood > {}\".format(likehood_cut))\n",
    "plt.xlabel(\"RA[deg]\")\n",
    "plt.ylabel(\"Dec[deg]\")\n",
    "#plt.grid()\n",
    "plt.savefig(os.path.join(plots, \"selected_targets_Ra_dec.png\"), dpi=300)\n",
    "plt.show()"
   ]
  },
  {
   "cell_type": "code",
   "execution_count": null,
   "metadata": {
    "collapsed": false
   },
   "outputs": [],
   "source": [
    "plt.figure(figsize=(8,4))\n",
    "plt.subplot(121)\n",
    "plt.hist(rises)\n",
    "\n",
    "plt.subplot(122)\n",
    "plt.hist(sets)"
   ]
  },
  {
   "cell_type": "code",
   "execution_count": null,
   "metadata": {
    "collapsed": false
   },
   "outputs": [],
   "source": [
    "from astroplan.plots import plot_airmass\n",
    "from astropy.coordinates import AltAz\n",
    "\n",
    "plt.figure(figsize=(10,10))\n",
    "plt.rcParams.update({\"font.size\":14})\n",
    "delta = (sunset_tonight - sunrise_tonight)\n",
    "deltas = np.arange(100)*delta/100.\n",
    "\n",
    "legend = []\n",
    "\n",
    "for row in top_targets:\n",
    "    tgt = row['planTargets']\n",
    "    coords = tgt.coord\n",
    "    tgt_altazs = coords.transform_to(AltAz(obstime=sunset_tonight+deltas,location=observatory.location))\n",
    "\n",
    "    plt.plot(sunset_tonight.value + np.array(deltas.value), tgt_altazs.alt.degree, label=row['Name'])\n",
    "    \n",
    "\n",
    "plt.ylabel('Altura en grados')\n",
    "plt.ylim(-10,90)\n",
    "plt.legend(loc=1) #(legend, 'upleft')\n",
    "plt.savefig"
   ]
  },
  {
   "cell_type": "code",
   "execution_count": null,
   "metadata": {
    "collapsed": false
   },
   "outputs": [],
   "source": [
    "center = sunset_tonight + delta/2.\n",
    "observe_time = center + np.linspace(-delta.value/2., delta.value/2., 100)*u.day\n",
    "\n",
    "for tgt in targets_plan:\n",
    "    plot_airmass(tgt, observatory, observe_time)\n",
    "\n",
    "plt.xlabel('Tiempo UTC (+3 Hs)')\n",
    "plt.ylabel('Masa de Aire')\n",
    "#plt.ylim(-100,100)"
   ]
  },
  {
   "cell_type": "markdown",
   "metadata": {
    "collapsed": true
   },
   "source": [
    "### Choose one target order a query"
   ]
  },
  {
   "cell_type": "code",
   "execution_count": null,
   "metadata": {
    "collapsed": false
   },
   "outputs": [],
   "source": [
    "from astroquery.skyview import SkyView\n",
    "\n",
    "from retrying import retry\n",
    "\n",
    "@retry(stop_max_attempt_number=4)\n",
    "def download_dss(pos):\n",
    "    path = SkyView.get_images(position = pos, survey='DSS', radius=20*u.arcmin, pixels=(900,900))\n",
    "    return path"
   ]
  },
  {
   "cell_type": "code",
   "execution_count": null,
   "metadata": {
    "collapsed": false,
    "scrolled": true
   },
   "outputs": [],
   "source": [
    "for row in top_targets:\n",
    "    \n",
    "    plots = os.path.abspath(plots)\n",
    "    target_dir = os.path.join(plots,'targets/'+row['Name'])\n",
    "    if not os.path.exists(target_dir): #or not os.path.isdir(target_dir):\n",
    "        os.mkdir(target_dir)\n",
    "    \n",
    "    pos = row['RAJ2000'] +' '+row['DecJ2000']\n",
    "    print '(alfa, delta)', pos\n",
    "    try:\n",
    "        path = download_dss(pos)\n",
    "    except:\n",
    "        pass\n",
    "    image0 = path[0]\n",
    "    image0.writeto(os.path.join(target_dir,'DSS_image.fits'), clobber=True)\n",
    "    \n",
    "    f = maputils.FITSimage(os.path.join(target_dir,'DSS_image.fits'))\n",
    "    fig = plt.figure(figsize=(10,10))\n",
    "    frame = fig.add_subplot(1,1,1)\n",
    "    annim = f.Annotatedimage(frame, cmap='gray_r')\n",
    "    annim.Image()\n",
    "    annim.Colorbar()\n",
    "    grat=annim.Graticule()\n",
    "    grat.setp_axislabel(fontsize=14)\n",
    "    grat.setp_ticklabel(fontsize=14)\n",
    "    annim.plot()\n",
    "    annim.interact_imagecolors()\n",
    "    annim.Marker(pos='AC', marker='x', markersize=30, color='g', \n",
    "             markeredgewidth=4, alpha=0.7)\n",
    "\n",
    "    plt.savefig(os.path.join(target_dir, 'identification_chart.png'), dpi='figure',format='png', \n",
    "                bbox_inches='tight')\n",
    "    fig.clear()"
   ]
  },
  {
   "cell_type": "raw",
   "metadata": {
    "collapsed": false
   },
   "source": [
    "from kapteyn import maputils\n",
    "\n",
    "f = maputils.FITSimage(\"DSS_image.fits\")\n",
    "fig = plt.figure(figsize=(10,10))\n",
    "frame = fig.add_subplot(1,1,1)\n",
    "annim = f.Annotatedimage(frame, cmap='gray_r')\n",
    "annim.Image()\n",
    "#annim.Colorbar()\n",
    "grat=annim.Graticule()\n",
    "grat.setp_axislabel(fontsize=14)\n",
    "grat.setp_ticklabel(fontsize=14)\n",
    "annim.plot()\n",
    "annim.interact_imagecolors()\n",
    "annim.Marker(pos='16h03m6s -22d56m4s', marker='x', markersize=60, color='g', \n",
    "             markeredgewidth=4, alpha=0.7)\n",
    "annim.Skypolygon(\"ellipse\", cpos=\"16h03m53.316s -22d56m49.884s\", major=300, minor=300,\n",
    "                 pa=-30.0, units='arcsec', fill=True)\n",
    "plt.show()"
   ]
  },
  {
   "cell_type": "code",
   "execution_count": null,
   "metadata": {
    "collapsed": true
   },
   "outputs": [],
   "source": []
  },
  {
   "cell_type": "code",
   "execution_count": null,
   "metadata": {
    "collapsed": true
   },
   "outputs": [],
   "source": []
  }
 ],
 "metadata": {
  "kernelspec": {
   "display_name": "Python 2",
   "language": "python",
   "name": "python2"
  },
  "language_info": {
   "codemirror_mode": {
    "name": "ipython",
    "version": 2
   },
   "file_extension": ".py",
   "mimetype": "text/x-python",
   "name": "python",
   "nbconvert_exporter": "python",
   "pygments_lexer": "ipython2",
   "version": "2.7.10"
  },
  "widgets": {
   "state": {
    "022a7a5b88ea497bad8ff2224bb7db10": {
     "views": []
    },
    "09a777bb9feb4f4b9972132860444d2c": {
     "views": []
    },
    "13cd2b7480974dedb81afd3d305a4881": {
     "views": []
    },
    "4a047b9bfb16458bacdbab9213c3bc8e": {
     "views": []
    },
    "595ce74873a74db2b6a0f697044cca62": {
     "views": [
      {
       "cell_index": 25
      }
     ]
    },
    "5a66a0c867d84c99a029d424e41802c6": {
     "views": []
    },
    "81142548b21d4983871e11b9bdaf8bfb": {
     "views": [
      {
       "cell_index": 29
      }
     ]
    },
    "90d29868e6c241188c1272ed979b69cf": {
     "views": []
    },
    "b9319394331e419d8ec458848dda82a1": {
     "views": []
    },
    "c5b5a33a13034d4aa523dd9e5f945c02": {
     "views": []
    }
   },
   "version": "1.1.2"
  }
 },
 "nbformat": 4,
 "nbformat_minor": 0
}
